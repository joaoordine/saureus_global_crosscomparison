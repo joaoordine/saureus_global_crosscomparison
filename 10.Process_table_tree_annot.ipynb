{
 "cells": [
  {
   "cell_type": "code",
   "execution_count": null,
   "id": "47c1db5c-0fda-4469-9930-68c348ab63ef",
   "metadata": {},
   "outputs": [],
   "source": [
    "library(dplyr)\n",
    "library(readr)"
   ]
  },
  {
   "cell_type": "code",
   "execution_count": null,
   "id": "cc0b4640-cc8a-4c3b-aa68-0a21376039e4",
   "metadata": {},
   "outputs": [],
   "source": [
    "#Process of mlst file that have IDs for sequences types\n",
    "#This file will be used for color the branches of the tree\n",
    "#Process of divide based on the column ST was based on one script \n",
    "\n",
    "st <- read_delim(\"data/ST_result.tsv\", \n",
    "                 delim = \"\\t\", escape_double = FALSE, \n",
    "                 trim_ws = TRUE)\n",
    "\n",
    "#Define color by ST e put column TYPE\n",
    "st <- mutate(st, TYPE = \"branch\")\n",
    "View(st)"
   ]
  },
  {
   "cell_type": "code",
   "execution_count": null,
   "id": "de55cf47-78ad-4ea6-bd27-7a6d8fb49b58",
   "metadata": {},
   "outputs": [],
   "source": [
    "# Define colors (cores) for each value of ST\n",
    "cores <- c(\"8\" = \"#E71D36\", \"5\" = \"#1B2CC1\", \"105\" = \"#2BC016\", \"Unclassified\" = \"#D3D3D3\", \n",
    "           \"30\" = \"#FAF33E\", \"398\" = \"#ff8000\", \"45\" = \"#62259d\", \"1\" = \"#ff89e1\", \n",
    "           \"59\" = \"#ffd2a3\", \"72\" = \"#9b0058\", \"239\" = \"#00afad\", \"1292\" = \"#006fe6\", \"22\" = \"#7d6c06\",\n",
    "           \"15\"= \"#00FFFF\", \"188\" = \"#8000ff\", \"9\" = \"#EF27A6\", \"6\" = \"#0b5394\", \"25\" = \"#c8a2c8\", \"228\" = \"#d48a3f\", \"7\" = \"#a3ff5a\", \n",
    "           \"97\" = \"#800080\", \"225\" = \"#00FFC5\", \"121\" = \"#ff7b7b\") \n",
    "\n",
    "# Create column \"CORES\" with the respective colors to the values of ST\n",
    "\n",
    "st$CORES <- ifelse(as.character(st$ST) %in% names(cores), cores[as.character(st$ST)], \"#000000\")\n",
    "\n",
    "View(st)"
   ]
  },
  {
   "cell_type": "code",
   "execution_count": null,
   "id": "cc51cbe7-4eb7-4ce2-9580-230dc62768e4",
   "metadata": {},
   "outputs": [],
   "source": [
    "#Remove undesired lines\n",
    "#st <- st[st$CORES != \"NULL\", ]\n",
    "View(st)"
   ]
  },
  {
   "cell_type": "code",
   "execution_count": null,
   "id": "8297707c-0da5-4ba4-8e6a-24037283ea66",
   "metadata": {},
   "outputs": [],
   "source": [
    "# Add \"_genomic\" to the final of each value in \"Genomes\" column\n",
    "st$Genomes <- paste0(st$Genomes, \"_genomic\")\n",
    "st <- mutate(st, STYLE = \"normal\")\n",
    "st <- mutate(st, LABEL = \"label_background\")\n",
    "st\n",
    "write_tsv(st, \"color_branches_new_colors.tsv\")"
   ]
  },
  {
   "cell_type": "code",
   "execution_count": null,
   "id": "51a93426-8319-4289-8712-b9ddff374d63",
   "metadata": {},
   "outputs": [],
   "source": [
    "# Mannually select the columns 'Genomes','TYPE'\t'TYPE_1'\t'CORES'\t'WIDTH'\t'STYLE' for itol annotation and excluded the others. \n",
    "# This data was used for color the branches based on STs.\n",
    "\n",
    "#Conditional stational for Sccmec (Outter ring 01)\n",
    "#Upload new file\n",
    "new_staphopia <- read_delim(\"data/Saureus_Tables_UPDATED_sccmec_sum_staphopia.tsv\", \n",
    "                            delim = \"\\t\", escape_double = FALSE, \n",
    "                            trim_ws = TRUE)\n",
    "View(new_staphopia)"
   ]
  },
  {
   "cell_type": "code",
   "execution_count": null,
   "id": "cc5f8220-ceb3-4e4c-a84f-06e02ab86bf2",
   "metadata": {},
   "outputs": [],
   "source": [
    "# Define the column of colors e their correspondences\n",
    "columns_check_staphopia_top <- c(\"I\" = \"I\", \"II\" = \"II\", \"III\" = \"III\", \"IV\" = \"IV\", \"V\"= \"V\", \"VI\" = \"VI\",\n",
    "                                 \"VII\"= \"VII\", \"VIII\"= \"VIII\", \"IX\"= \"IX\")"
   ]
  },
  {
   "cell_type": "code",
   "execution_count": null,
   "id": "f49b95c1-7d3f-4a14-9725-95c386506ac4",
   "metadata": {},
   "outputs": [],
   "source": [
    "# Function to attribute color based on value of one column\n",
    "atribuir_col <- function(nome) {\n",
    "  if (nome[\"Unassigned\"] == \"TRUE\") {\n",
    "    return(\"UNASSIGNED\")\n",
    "  } else if (nome[\"SCCmec_neg\"] == \"TRUE\") {\n",
    "    return(\"SCCmec_NEG\")\n",
    "  } else {\n",
    "    for (coluna in names(columns_check_staphopia_top)) {\n",
    "      if (nome[coluna] == \"TRUE\") {\n",
    "        return(columns_check_staphopia_top[coluna])\n",
    "      }\n",
    "    }\n",
    "    return(\"FALSE\")  # If there is no correspondence\n",
    "  }\n",
    "}\n",
    "\n",
    "\n",
    "new_staphopia$Sccmec_category <- sapply(1:nrow(new_staphopia), function(i) atribuir_col(new_staphopia[i,]))\n",
    "\n",
    "View(new_staphopia)"
   ]
  },
  {
   "cell_type": "code",
   "execution_count": null,
   "id": "b98d2a96-a2fa-453f-a04e-b571f837ada3",
   "metadata": {},
   "outputs": [],
   "source": [
    "#Save file\n",
    "write_tsv(new_staphopia, \"new_staphopia.tsv\")"
   ]
  },
  {
   "cell_type": "code",
   "execution_count": null,
   "id": "4f3daa1c-7fb0-4351-819a-529f2b32904d",
   "metadata": {},
   "outputs": [],
   "source": [
    "#Annotation with new update file\n",
    "new_staphopia_annot <- read_delim(\"data/new_staphopia.tsv\", \n",
    "                                  delim = \"\\t\", escape_double = FALSE, \n",
    "                                  trim_ws = TRUE)\n",
    "\n",
    "cor_names <- c(\"I\" = \"#8bd2c6\", \"II\" = \"#ffffb1\", \"III\" = \"#bdb9d9\", \"IV\" = \"#fb7f71\", \"V\"= \"#fccce4\", \"VI\" = \"#d8d8d8\",\n",
    "               \"VII\"= \"#bb7fbc\", \"VIII\"= \"#cbeac4\", \"IX\"= \"#7fb0d2\", \"UNASSIGNED\" = \"#b2dd69\", \"SCCmec_NEG\" = \"#fdb262\")\n",
    "\n",
    "new_staphopia_annot$COR_NAMES <- ifelse(as.character(new_staphopia_annot$Sccmec_category) %in% names(cor_names),\n",
    "                                        cor_names[as.character(new_staphopia_annot$Sccmec_category)], \"NULL\")\n",
    "View(new_staphopia_annot)\n",
    "\n",
    "new_staphopia_annot$COR_NAMES[new_staphopia_annot$COR_NAMES == 'NULL'] <- '#FFFFFF'\n",
    "View(new_staphopia_annot)\n"
   ]
  },
  {
   "cell_type": "code",
   "execution_count": null,
   "id": "2efc512f-1e0c-47b2-b23e-fe1d2ca41c5d",
   "metadata": {},
   "outputs": [],
   "source": [
    "#Manually select the columns 'Genome' and 'COR_NAMES' and exclude the other. Copied and pasted in the itol annotation file\n",
    "\n",
    "\n",
    "#MRSA versus MSSA (outter ring 02)\n",
    "\n",
    "#upload data\n",
    "MSSA_table <-read_delim(\"data/Saureus_Tables_UPDATED_phylo_annot.tsv\", \n",
    "                        delim = \"\\t\", escape_double = FALSE, \n",
    "                        trim_ws = TRUE)\n",
    "\n",
    "View(MSSA_table)"
   ]
  },
  {
   "cell_type": "code",
   "execution_count": null,
   "id": "184c8fbf-2ebd-4b91-a153-f66fa8b6c161",
   "metadata": {},
   "outputs": [],
   "source": [
    "#Attribute color to 'MSSA' and 'MRSA'\n",
    "data_MSSA<- c(\"MSSA\" = \"#C42021\", \"MRSA\" = \"#3BC14A\")\n",
    "MSSA_table$beta <- ifelse(as.character(MSSA_table$bLactam_Category) %in% names(data_MSSA),\n",
    "                          data_MSSA[as.character(MSSA_table$bLactam_Category)], \"NULL\")\n",
    "View(MSSA_table)\n",
    "MSSA_table$Genome <- paste0(MSSA_table$Genome, \"_genomic\")\n",
    "write_tsv(MSSA_table, \"MSSA_annot.tsv\")"
   ]
  },
  {
   "cell_type": "code",
   "execution_count": null,
   "id": "7494a937-2f84-489f-9d59-42d77ae2ea4c",
   "metadata": {},
   "outputs": [],
   "source": [
    "#Manually select the columns 'Genome' and 'beta' and exclude the other. Copied and pasted in the itol annotation file\n",
    "\n",
    "\n",
    "#MecA presence (outter ring 03) \n",
    "#for all mecA, regards if it's true or not, I used this one. \n",
    "\n",
    "new_staphopia_annot$star <- ifelse(new_staphopia_annot$mecA == \"TRUE\", \"#1B1B1E\", \"#FFFFFF\")\n",
    "View(new_staphopia_annot)\n",
    "write_tsv(new_staphopia_annot, \"new_staphopia_1.tsv\")"
   ]
  },
  {
   "cell_type": "code",
   "execution_count": null,
   "id": "d07f288c-8c53-408c-8ac9-57c69f3b4e10",
   "metadata": {},
   "outputs": [],
   "source": [
    "#Manually select the columns 'Genome' and 'star' and exclude the other. Copied and pasted in the itol annotation file\n",
    "\n",
    "\n",
    "#Analysis for carbo transporters\n",
    "\n",
    "#For ribose (outter ring 04)\n",
    "ribose_data <- read_delim(\"data/ribose_transporters_df.tsv\", \n",
    "                          delim = \"\\t\", escape_double = FALSE, \n",
    "                          trim_ws = TRUE)\n",
    "\n",
    "View(ribose_data)"
   ]
  },
  {
   "cell_type": "code",
   "execution_count": null,
   "id": "fbd199a9-11a9-4f3d-a0a8-817aac5e9abe",
   "metadata": {},
   "outputs": [],
   "source": [
    "#Analisys of data by histogram\n",
    "hist(ribose_data$Transporter_Count)\n",
    "\n",
    "#Median of column 'Transporter_count'\n",
    "med_rib <- median(ribose_data$Transporter_Count)\n",
    "\n",
    "#Attribute color to values above and below the median\n",
    "ribose_data$color <- ifelse(ribose_data$Transporter_Count > med_rib, \"#2c43b0\",\"#64b6ee\")\n",
    "View(ribose_data)\n",
    "\n",
    "#Add '_genomic' to the the Genome column objects\n",
    "ribose_data$Genome <- paste0(ribose_data$Genome, \"_genomic\")\n",
    "\n",
    "#Save data for annotation\n",
    "write_tsv(ribose_data, \"ribose_ring.tsv\")"
   ]
  },
  {
   "cell_type": "code",
   "execution_count": null,
   "id": "8f9681ef-bd16-4192-b235-e63bcef4f538",
   "metadata": {},
   "outputs": [],
   "source": [
    "#Manually select the columns 'Genome' and 'color' and exclude the others. \n",
    "#Copied and pasted in the itol annotation file which can be found in \"data/IToL_annotations_scripts/outer_ring_ribose.txt\"\n",
    "\n",
    "\n",
    "#For manitol (outter ring 05)\n",
    "#Upload data\n",
    "manitol_data <- read_delim(\"data/mannitol_transporters_df.tsv\", \n",
    "                           delim = \"\\t\", escape_double = FALSE, \n",
    "                           trim_ws = TRUE)\n",
    "\n",
    "#Analisys of data by histogram\n",
    "hist(manitol_data$Transporter_Count)\n",
    "\n",
    "#Median of column 'Transporter_count'\n",
    "med_mani <- median(manitol_data$Transporter_Count)\n",
    "\n",
    "#Attribute color to values above and below the median\n",
    "manitol_data$color <- ifelse(manitol_data$Transporter_Count > med_mani, \"#607c3c\", \"#b5e550\")\n",
    "View(manitol_data)\n",
    "\n",
    "#Add '_genomic' to the the Genome column objects\n",
    "manitol_data$Genome <- paste0(manitol_data$Genome, \"_genomic\")\n",
    "\n",
    "#Save data for annotation\n",
    "write_tsv(manitol_data, \"manitol_ring.tsv\")"
   ]
  },
  {
   "cell_type": "code",
   "execution_count": null,
   "id": "15d6fd70-b752-4099-bf5a-1efe726f59fb",
   "metadata": {},
   "outputs": [],
   "source": [
    "#Manually select the columns 'Genome' and 'color' and exclude the others. \n",
    "#Copied and pasted in the itol annotation file which can be found in \"data/IToL_annotations_scripts/outer_ring_manitol.txt\"\n",
    "\n",
    "\n",
    "#For lactose (outter ring 06)\n",
    "#Upload data\n",
    "lactose_data <- read_delim(\"data/lactose_transporters_df.tsv\", \n",
    "                           delim = \"\\t\", escape_double = FALSE, \n",
    "                           trim_ws = TRUE)\n",
    "\n",
    "#Analisys of data by histogram\n",
    "hist(lactose_data$Transporter_Count)\n",
    "\n",
    "#Median of column 'Transporter_count'\n",
    "med_lac <- median(lactose_data$Transporter_Count)\n",
    "\n",
    "#Attribute color to values above and below the median\n",
    "lactose_data$color <- ifelse(lactose_data$Transporter_Count > med_lac, \"#b21500\", \"#ff4b33\")\n",
    "View(lactose_data)\n",
    "\n",
    "#Add '_genomic' to the the Genome column objects\n",
    "lactose_data$Genome <- paste0(lactose_data$Genome, \"_genomic\")\n",
    "\n",
    "#Save data for annotation\n",
    "write_tsv(lactose_data, \"lactose_ring.tsv\")"
   ]
  },
  {
   "cell_type": "code",
   "execution_count": null,
   "id": "c0a44a7e-0a79-483d-ad00-5e644833cb8d",
   "metadata": {},
   "outputs": [],
   "source": [
    "#Manually select the columns 'Genome' and 'color' and exclude the others.\n",
    "#Copied and pasted in the itol annotation file which can be found in \"data/IToL_annotations_scripts/outer_ring_lactose.txt\"\n",
    "\n",
    "#For sia transporters (outter ring 07)\n",
    "#Upload data\n",
    "\n",
    "siatrans_data <- read_delim(\"data/sia_transporters_df.tsv\", \n",
    "                            delim = \"\\t\", escape_double = FALSE, \n",
    "                            trim_ws = TRUE)\n",
    "\n",
    "#Analisys of data by histogram\n",
    "hist(siatrans_data$Transporter_Count)\n",
    "\n",
    "#Median of column 'Transporter_count'\n",
    "med_siatrans <- median(siatrans_data$Transporter_Count)\n",
    "\n",
    "#Attribute color to values above and below the median\n",
    "siatrans_data$color <- ifelse(siatrans_data$Transporter_Count > med_siatrans, \"#a98600\", \"#e9d700\")\n",
    "View(siatrans_data)\n",
    "\n",
    "#Add '_genomic' to the the Genome column objects\n",
    "siatrans_data$Genome <- paste0(siatrans_data$Genome, \"_genomic\")\n",
    "\n",
    "#Save data for annotation\n",
    "write_tsv(siatrans_data, \"sia_trans_ring.tsv\")"
   ]
  },
  {
   "cell_type": "code",
   "execution_count": null,
   "id": "fd730b9a-0776-4153-8f1e-ffa5a090d70c",
   "metadata": {},
   "outputs": [],
   "source": [
    "#Manually select the columns 'Genome' and 'color' and exclude the others. \n",
    "#Copied and pasted in the itol annotation file which can be found in \"data/IToL_annotations_scripts/outer_ring_sia.txt\"\n",
    "\n",
    "\n",
    "#For genes tet\n",
    "#Upload data\n",
    "tet_table <-read_delim(\"data/Saureus_Tables_UPDATED_efflux_ARGs.tsv\", \n",
    "                       delim = \"\\t\", escape_double = FALSE, \n",
    "                       trim_ws = TRUE)\n",
    "\n",
    "#Attribute values \n",
    "data_tet<- c(\"1\" = \"#f3ccff\", \"2\" = \"#b148d2\", \"3\" = \"#691883\")\n",
    "tet_table$tet_color <- ifelse(as.character(tet_table$tet) %in% names(data_tet),\n",
    "                              data_tet[as.character(tet_table$tet)], \"NULL\")\n",
    "tet_table$tet_color[tet_table$tet_color == 'NULL'] <- '#FFFFFF'\n",
    "\n",
    "View(tet_table)\n",
    "\n",
    "#Add '_genomic' extension to \"Genomes\" column values (avoid conflict with data of the tree)\n",
    "tet_table$Genome <- paste0(tet_table$Genome, \"_genomic\")\n",
    "View(tet_table)\n",
    "\n",
    "#Save data\n",
    "write_tsv(tet_table, \"tet_table.tsv\")\n",
    "\n",
    "#Manually select the columns 'Genome' and 'tet_color' and exclude the others. \n",
    "#Copied and pasted in the itol annotation file which can be found in \"data/IToL_annotations_scripts/tet_resistance_itol.txt\""
   ]
  }
 ],
 "metadata": {
  "kernelspec": {
   "display_name": "R",
   "language": "R",
   "name": "ir"
  },
  "language_info": {
   "codemirror_mode": "r",
   "file_extension": ".r",
   "mimetype": "text/x-r-source",
   "name": "R",
   "pygments_lexer": "r",
   "version": "4.4.1"
  }
 },
 "nbformat": 4,
 "nbformat_minor": 5
}
