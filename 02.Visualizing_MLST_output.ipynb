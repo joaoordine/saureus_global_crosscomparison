{
 "cells": [
  {
   "cell_type": "code",
   "execution_count": 3,
   "id": "6c4b9935-d8a3-4b54-88e2-b94ff8395c96",
   "metadata": {},
   "outputs": [
    {
     "data": {
      "text/html": [
       "<table class=\"dataframe\">\n",
       "<caption>A data.frame: 6 × 2</caption>\n",
       "<thead>\n",
       "\t<tr><th></th><th scope=col>Count</th><th scope=col>Sequence_Type</th></tr>\n",
       "\t<tr><th></th><th scope=col>&lt;int&gt;</th><th scope=col>&lt;chr&gt;</th></tr>\n",
       "</thead>\n",
       "<tbody>\n",
       "\t<tr><th scope=row>1</th><td> 91</td><td>Unclassified</td></tr>\n",
       "\t<tr><th scope=row>2</th><td> 50</td><td>ST_1        </td></tr>\n",
       "\t<tr><th scope=row>3</th><td>237</td><td>ST_5        </td></tr>\n",
       "\t<tr><th scope=row>4</th><td> 15</td><td>ST_6        </td></tr>\n",
       "\t<tr><th scope=row>5</th><td> 12</td><td>ST_7        </td></tr>\n",
       "\t<tr><th scope=row>6</th><td>318</td><td>ST_8        </td></tr>\n",
       "</tbody>\n",
       "</table>\n"
      ],
      "text/latex": [
       "A data.frame: 6 × 2\n",
       "\\begin{tabular}{r|ll}\n",
       "  & Count & Sequence\\_Type\\\\\n",
       "  & <int> & <chr>\\\\\n",
       "\\hline\n",
       "\t1 &  91 & Unclassified\\\\\n",
       "\t2 &  50 & ST\\_1        \\\\\n",
       "\t3 & 237 & ST\\_5        \\\\\n",
       "\t4 &  15 & ST\\_6        \\\\\n",
       "\t5 &  12 & ST\\_7        \\\\\n",
       "\t6 & 318 & ST\\_8        \\\\\n",
       "\\end{tabular}\n"
      ],
      "text/markdown": [
       "\n",
       "A data.frame: 6 × 2\n",
       "\n",
       "| <!--/--> | Count &lt;int&gt; | Sequence_Type &lt;chr&gt; |\n",
       "|---|---|---|\n",
       "| 1 |  91 | Unclassified |\n",
       "| 2 |  50 | ST_1         |\n",
       "| 3 | 237 | ST_5         |\n",
       "| 4 |  15 | ST_6         |\n",
       "| 5 |  12 | ST_7         |\n",
       "| 6 | 318 | ST_8         |\n",
       "\n"
      ],
      "text/plain": [
       "  Count Sequence_Type\n",
       "1  91   Unclassified \n",
       "2  50   ST_1         \n",
       "3 237   ST_5         \n",
       "4  15   ST_6         \n",
       "5  12   ST_7         \n",
       "6 318   ST_8         "
      ]
     },
     "metadata": {},
     "output_type": "display_data"
    }
   ],
   "source": [
    "# Visualizing mlst results - frequency bar plot of most representatives STs in R\n",
    "library(ggplot2)\n",
    "data <- read.table(\"data/just_STs_W_header_R.txt\", header = TRUE)\n",
    "head(data)"
   ]
  },
  {
   "cell_type": "code",
   "execution_count": 4,
   "id": "22a18550-cd81-46f3-8cf7-1400dfd6df95",
   "metadata": {},
   "outputs": [],
   "source": [
    "## Pre-processing \n",
    "filtered_data <- subset(data, Count > 10) # Filter the data to include only counts greater than 10\n",
    "others_data <- data.frame(Count = sum(data$Count[data$Count <= 10]),\n",
    "                          Sequence_Type = \"Others\") # Filter the data to include only counts greater than 10\n",
    "\n",
    "combined_data <- rbind(filtered_data, others_data) # Combine the filtered data and 'Others' data\n"
   ]
  },
  {
   "cell_type": "code",
   "execution_count": 5,
   "id": "1f4f578e-94f3-4546-97c4-980802f30091",
   "metadata": {},
   "outputs": [],
   "source": [
    "## Create a custom color palette\n",
    "my_colors <- c(\"Others\" = \"black\", \"Unclassified\" = \"#303030\")\n",
    "\n",
    "unique_types <- unique(filtered_data$Sequence_Type)\n",
    "for (st in unique_types) {\n",
    "    my_colors <- c(my_colors, setNames(\"gray\", st))\n",
    "} \n"
   ]
  },
  {
   "cell_type": "code",
   "execution_count": 7,
   "id": "dc386f4a-36d6-402f-aa26-94930c5c83ef",
   "metadata": {},
   "outputs": [
    {
     "data": {
      "text/html": [
       "<table class=\"dataframe\">\n",
       "<caption>A data.frame: 6 × 2</caption>\n",
       "<thead>\n",
       "\t<tr><th></th><th scope=col>Count</th><th scope=col>Sequence_Type</th></tr>\n",
       "\t<tr><th></th><th scope=col>&lt;int&gt;</th><th scope=col>&lt;fct&gt;</th></tr>\n",
       "</thead>\n",
       "<tbody>\n",
       "\t<tr><th scope=row>1</th><td> 91</td><td>Unclassified</td></tr>\n",
       "\t<tr><th scope=row>2</th><td> 50</td><td>ST_1        </td></tr>\n",
       "\t<tr><th scope=row>3</th><td>237</td><td>ST_5        </td></tr>\n",
       "\t<tr><th scope=row>4</th><td> 15</td><td>ST_6        </td></tr>\n",
       "\t<tr><th scope=row>5</th><td> 12</td><td>ST_7        </td></tr>\n",
       "\t<tr><th scope=row>6</th><td>318</td><td>ST_8        </td></tr>\n",
       "</tbody>\n",
       "</table>\n"
      ],
      "text/latex": [
       "A data.frame: 6 × 2\n",
       "\\begin{tabular}{r|ll}\n",
       "  & Count & Sequence\\_Type\\\\\n",
       "  & <int> & <fct>\\\\\n",
       "\\hline\n",
       "\t1 &  91 & Unclassified\\\\\n",
       "\t2 &  50 & ST\\_1        \\\\\n",
       "\t3 & 237 & ST\\_5        \\\\\n",
       "\t4 &  15 & ST\\_6        \\\\\n",
       "\t5 &  12 & ST\\_7        \\\\\n",
       "\t6 & 318 & ST\\_8        \\\\\n",
       "\\end{tabular}\n"
      ],
      "text/markdown": [
       "\n",
       "A data.frame: 6 × 2\n",
       "\n",
       "| <!--/--> | Count &lt;int&gt; | Sequence_Type &lt;fct&gt; |\n",
       "|---|---|---|\n",
       "| 1 |  91 | Unclassified |\n",
       "| 2 |  50 | ST_1         |\n",
       "| 3 | 237 | ST_5         |\n",
       "| 4 |  15 | ST_6         |\n",
       "| 5 |  12 | ST_7         |\n",
       "| 6 | 318 | ST_8         |\n",
       "\n"
      ],
      "text/plain": [
       "  Count Sequence_Type\n",
       "1  91   Unclassified \n",
       "2  50   ST_1         \n",
       "3 237   ST_5         \n",
       "4  15   ST_6         \n",
       "5  12   ST_7         \n",
       "6 318   ST_8         "
      ]
     },
     "metadata": {},
     "output_type": "display_data"
    }
   ],
   "source": [
    "## Reorder Sequence_Type by Count in ascending order\n",
    "combined_data$Sequence_Type <- reorder(combined_data$Sequence_Type, combined_data$Count)\n",
    "head(combined_data)"
   ]
  },
  {
   "cell_type": "code",
   "execution_count": 8,
   "id": "fb913d2e-bfd6-4c13-bb14-52c13a94799c",
   "metadata": {},
   "outputs": [
    {
     "data": {
      "image/png": "[encoded data removed]",
      "text/plain": [
       "plot without title"
      ]
     },
     "metadata": {
      "image/png": {
       "height": 420,
       "width": 420
      }
     },
     "output_type": "display_data"
    }
   ],
   "source": [
    "## Create the barplot with different fill colors\n",
    "ggplot(combined_data, aes(x = Count, y = Sequence_Type, fill = Sequence_Type)) +\n",
    "    geom_bar(stat = \"identity\") +\n",
    "    labs(x = \"Absolute Frequency\", y = \"Sequence Type\") +\n",
    "    scale_fill_manual(values = my_colors)\n"
   ]
  },
  {
   "cell_type": "code",
   "execution_count": null,
   "id": "f1c2151b-6926-499b-b59d-0969007766bc",
   "metadata": {},
   "outputs": [],
   "source": []
  }
 ],
 "metadata": {
  "kernelspec": {
   "display_name": "R",
   "language": "R",
   "name": "ir"
  },
  "language_info": {
   "codemirror_mode": "r",
   "file_extension": ".r",
   "mimetype": "text/x-r-source",
   "name": "R",
   "pygments_lexer": "r",
   "version": "4.3.2"
  }
 },
 "nbformat": 4,
 "nbformat_minor": 5
}
